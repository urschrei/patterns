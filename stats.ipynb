{
 "cells": [
  {
   "cell_type": "markdown",
   "metadata": {},
   "source": [
    "# Measuring the Time Complexity of the Implementation"
   ]
  },
  {
   "cell_type": "markdown",
   "metadata": {},
   "source": [
    "Since the algorithm iterates over the strings `2n` times, each substring `log(n)` times, and HashMap operations are assumed to be `O(1)`, we can classify its time complexity as **linear**. But it's always good to verify empirically, if possible. "
   ]
  },
  {
   "cell_type": "markdown",
   "metadata": {},
   "source": [
    "Slice the original string file into sub-files, increasing each by 5k lines"
   ]
  },
  {
   "cell_type": "code",
   "execution_count": null,
   "metadata": {},
   "outputs": [],
   "source": [
    "%bash\n",
    "for (( START=5000; START<=500000; START+=5000 )); do\n",
    "    sed -n 1,\"$START\"p words.txt > files/words_$START.txt\n",
    "done"
   ]
  },
  {
   "cell_type": "markdown",
   "metadata": {},
   "source": [
    "Time the calculation using `Hyperfine`. There are 10 warm-up runs, followed by 20 measured runs."
   ]
  },
  {
   "cell_type": "code",
   "execution_count": null,
   "metadata": {},
   "outputs": [],
   "source": [
    "%bash\n",
    "for (( START=5000; START<=500000; START+=5000 )); do\n",
    "    hyperfine --warmup 10 --min-runs 20 -s basic 'target/release/patterns files/words_'\"$START\"'.txt' >> stats.txt\n",
    "done"
   ]
  },
  {
   "cell_type": "code",
   "execution_count": 1,
   "metadata": {},
   "outputs": [
    {
     "name": "stderr",
     "output_type": "stream",
     "text": [
      "/Users/sth/dev/patterns/venv/lib/python2.7/site-packages/matplotlib/__init__.py:800: MatplotlibDeprecationWarning: axes.color_cycle is deprecated and replaced with axes.prop_cycle; please use the latter.\n",
      "  mplDeprecation)\n"
     ]
    }
   ],
   "source": [
    "import pandas as pd\n",
    "import numpy as np\n",
    "import matplotlib.pyplot as plt\n",
    "import statsmodels\n",
    "import statsmodels.formula.api as sm\n",
    "from statsmodels.stats.outliers_influence import summary_table\n",
    "\n",
    "import re"
   ]
  },
  {
   "cell_type": "code",
   "execution_count": 2,
   "metadata": {},
   "outputs": [],
   "source": [
    "%matplotlib inline"
   ]
  },
  {
   "cell_type": "markdown",
   "metadata": {},
   "source": [
    "Some plot customisation. You can skip this."
   ]
  },
  {
   "cell_type": "code",
   "execution_count": 3,
   "metadata": {},
   "outputs": [],
   "source": [
    "from matplotlib import rc\n",
    "rc('font', **{'family':'sans-serif',\n",
    "    'sans-serif':['Helvetica'],\n",
    "    'monospace': ['Inconsolata'],\n",
    "    'serif': ['Bitstream Vera Serif']})\n",
    "rc('text', **{'usetex': True})\n",
    "rc('text', **{'latex.preamble': '\\usepackage{sfmath}'})"
   ]
  },
  {
   "cell_type": "code",
   "execution_count": 4,
   "metadata": {},
   "outputs": [],
   "source": [
    "# extract timings and noise\n",
    "reg = re.compile(r\"\\S*:\\s*(\\d*\\.\\d*)\\sms\\s±\\s*(\\d*\\.\\d*)\\sms\")"
   ]
  },
  {
   "cell_type": "code",
   "execution_count": 5,
   "metadata": {},
   "outputs": [],
   "source": [
    "fields = ['time', 'error']\n",
    "\n",
    "with open(\"stats.txt\", \"r\") as f:\n",
    "    matches = (reg.findall(line) for line in f)\n",
    "    cleaned = (m for m in matches if len(m))\n",
    "    df = pd.DataFrame([dict(zip(fields, *entry)) for entry in cleaned])"
   ]
  },
  {
   "cell_type": "code",
   "execution_count": 6,
   "metadata": {},
   "outputs": [],
   "source": [
    "# convert strings to float\n",
    "df.time = pd.to_numeric(df.time)\n",
    "df.error = pd.to_numeric(df.error)\n",
    "# add number of entries\n",
    "df['entries'] = np.array([e for e in xrange(5000, 505000, 5000)])"
   ]
  },
  {
   "cell_type": "markdown",
   "metadata": {},
   "source": [
    "## Assume there is a linear relationship between number of strings and comparison time"
   ]
  },
  {
   "cell_type": "code",
   "execution_count": 7,
   "metadata": {},
   "outputs": [
    {
     "data": {
      "text/html": [
       "<table class=\"simpletable\">\n",
       "<caption>OLS Regression Results</caption>\n",
       "<tr>\n",
       "  <th>Dep. Variable:</th>          <td>time</td>       <th>  R-squared:         </th> <td>   0.967</td>\n",
       "</tr>\n",
       "<tr>\n",
       "  <th>Model:</th>                   <td>OLS</td>       <th>  Adj. R-squared:    </th> <td>   0.967</td>\n",
       "</tr>\n",
       "<tr>\n",
       "  <th>Method:</th>             <td>Least Squares</td>  <th>  F-statistic:       </th> <td>   2860.</td>\n",
       "</tr>\n",
       "<tr>\n",
       "  <th>Date:</th>             <td>Fri, 23 Feb 2018</td> <th>  Prob (F-statistic):</th> <td>2.53e-74</td>\n",
       "</tr>\n",
       "<tr>\n",
       "  <th>Time:</th>                 <td>01:13:09</td>     <th>  Log-Likelihood:    </th> <td> -429.94</td>\n",
       "</tr>\n",
       "<tr>\n",
       "  <th>No. Observations:</th>      <td>   100</td>      <th>  AIC:               </th> <td>   863.9</td>\n",
       "</tr>\n",
       "<tr>\n",
       "  <th>Df Residuals:</th>          <td>    98</td>      <th>  BIC:               </th> <td>   869.1</td>\n",
       "</tr>\n",
       "<tr>\n",
       "  <th>Df Model:</th>              <td>     1</td>      <th>                     </th>     <td> </td>   \n",
       "</tr>\n",
       "<tr>\n",
       "  <th>Covariance Type:</th>      <td>nonrobust</td>    <th>                     </th>     <td> </td>   \n",
       "</tr>\n",
       "</table>\n",
       "<table class=\"simpletable\">\n",
       "<tr>\n",
       "      <td></td>         <th>coef</th>     <th>std err</th>      <th>t</th>      <th>P>|t|</th>  <th>[0.025</th>    <th>0.975]</th>  \n",
       "</tr>\n",
       "<tr>\n",
       "  <th>Intercept</th> <td>   12.6205</td> <td>    3.628</td> <td>    3.479</td> <td> 0.001</td> <td>    5.421</td> <td>   19.820</td>\n",
       "</tr>\n",
       "<tr>\n",
       "  <th>entries</th>   <td>    0.0007</td> <td> 1.25e-05</td> <td>   53.479</td> <td> 0.000</td> <td>    0.001</td> <td>    0.001</td>\n",
       "</tr>\n",
       "</table>\n",
       "<table class=\"simpletable\">\n",
       "<tr>\n",
       "  <th>Omnibus:</th>       <td>150.851</td> <th>  Durbin-Watson:     </th> <td>   1.968</td>\n",
       "</tr>\n",
       "<tr>\n",
       "  <th>Prob(Omnibus):</th> <td> 0.000</td>  <th>  Jarque-Bera (JB):  </th> <td>6839.132</td>\n",
       "</tr>\n",
       "<tr>\n",
       "  <th>Skew:</th>          <td> 5.450</td>  <th>  Prob(JB):          </th> <td>    0.00</td>\n",
       "</tr>\n",
       "<tr>\n",
       "  <th>Kurtosis:</th>      <td>42.020</td>  <th>  Cond. No.          </th> <td>5.86e+05</td>\n",
       "</tr>\n",
       "</table>"
      ],
      "text/plain": [
       "<class 'statsmodels.iolib.summary.Summary'>\n",
       "\"\"\"\n",
       "                            OLS Regression Results                            \n",
       "==============================================================================\n",
       "Dep. Variable:                   time   R-squared:                       0.967\n",
       "Model:                            OLS   Adj. R-squared:                  0.967\n",
       "Method:                 Least Squares   F-statistic:                     2860.\n",
       "Date:                Fri, 23 Feb 2018   Prob (F-statistic):           2.53e-74\n",
       "Time:                        01:13:09   Log-Likelihood:                -429.94\n",
       "No. Observations:                 100   AIC:                             863.9\n",
       "Df Residuals:                      98   BIC:                             869.1\n",
       "Df Model:                           1                                         \n",
       "Covariance Type:            nonrobust                                         \n",
       "==============================================================================\n",
       "                 coef    std err          t      P>|t|      [0.025      0.975]\n",
       "------------------------------------------------------------------------------\n",
       "Intercept     12.6205      3.628      3.479      0.001       5.421      19.820\n",
       "entries        0.0007   1.25e-05     53.479      0.000       0.001       0.001\n",
       "==============================================================================\n",
       "Omnibus:                      150.851   Durbin-Watson:                   1.968\n",
       "Prob(Omnibus):                  0.000   Jarque-Bera (JB):             6839.132\n",
       "Skew:                           5.450   Prob(JB):                         0.00\n",
       "Kurtosis:                      42.020   Cond. No.                     5.86e+05\n",
       "==============================================================================\n",
       "\n",
       "Warnings:\n",
       "[1] Standard Errors assume that the covariance matrix of the errors is correctly specified.\n",
       "[2] The condition number is large, 5.86e+05. This might indicate that there are\n",
       "strong multicollinearity or other numerical problems.\n",
       "\"\"\""
      ]
     },
     "execution_count": 7,
     "metadata": {},
     "output_type": "execute_result"
    }
   ],
   "source": [
    "fit = sm.ols(\n",
    "    formula='time ~ entries',\n",
    "    data=df).fit()\n",
    "fit.summary()"
   ]
  },
  {
   "cell_type": "markdown",
   "metadata": {},
   "source": [
    "And plot the measurements and fitted line"
   ]
  },
  {
   "cell_type": "code",
   "execution_count": 11,
   "metadata": {},
   "outputs": [
    {
     "data": {
      "text/plain": [
       "<matplotlib.figure.Figure at 0x10a859650>"
      ]
     },
     "metadata": {},
     "output_type": "display_data"
    },
    {
     "data": {
      "image/png": "[encoded data removed]",
      "text/plain": [
       "<matplotlib.figure.Figure at 0x10a878dd0>"
      ]
     },
     "metadata": {},
     "output_type": "display_data"
    }
   ],
   "source": [
    "plt.clf()\n",
    "fig = plt.figure(figsize=(12.5, 12.5))\n",
    "ax = fig.add_subplot(111)\n",
    "measured = ax.scatter(\n",
    "    df['entries'], df['time'],\n",
    "    s=15, marker='o', color='#006600', edgecolor='#333333', lw=1\n",
    ")\n",
    "err = plt.errorbar(\n",
    "    df['entries'], df['time'], yerr=df['error'],\n",
    "    ecolor='#7e7e7e', alpha=.75\n",
    ")\n",
    "# Line of best fit\n",
    "fitted, = plt.plot(\n",
    "    df['entries'],\n",
    "    fit.predict(),\n",
    "    color='#CC00CC',\n",
    "    zorder=1)\n",
    "\n",
    "leg = plt.legend(\n",
    "    (measured, fitted, err),\n",
    "    (\"Timings\", \"Fit ($r^2$: %0.4f)\" % fit.rsquared, \"Std. Deviation\"))\n",
    "ax.set_xlabel('Number of Entries')\n",
    "ax.set_ylabel('Time (ms)')\n",
    "\n",
    "plt.title(\"Time to Identify Common Patterns\")\n",
    "plt.show()"
   ]
  },
  {
   "cell_type": "markdown",
   "metadata": {},
   "source": [
    "###  This implementation has O(n) time complexity"
   ]
  },
  {
   "cell_type": "code",
   "execution_count": null,
   "metadata": {},
   "outputs": [],
   "source": []
  }
 ],
 "metadata": {
  "kernelspec": {
   "display_name": "Python 2",
   "language": "python",
   "name": "python2"
  },
  "language_info": {
   "codemirror_mode": {
    "name": "ipython",
    "version": 2
   },
   "file_extension": ".py",
   "mimetype": "text/x-python",
   "name": "python",
   "nbconvert_exporter": "python",
   "pygments_lexer": "ipython2",
   "version": "2.7.10"
  }
 },
 "nbformat": 4,
 "nbformat_minor": 2
}
